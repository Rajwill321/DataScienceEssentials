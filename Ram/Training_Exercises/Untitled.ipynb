{
 "cells": [
  {
   "cell_type": "code",
   "execution_count": 12,
   "id": "2601761e",
   "metadata": {},
   "outputs": [
    {
     "name": "stdout",
     "output_type": "stream",
     "text": [
      "[[41  4]\n",
      " [13 14]]\n",
      "0.7638888888888888\n"
     ]
    }
   ],
   "source": [
    "# Example : Creating Model with RandomForest Algorithm\n",
    "import pandas as pd\n",
    "bc = pd.read_csv(\"https://raw.githubusercontent.com/jbrownlee/Datasets/master/breast-cancer.csv\", header=None)\n",
    "bc.head()\n",
    "bc.dtypes\n",
    "# Converting non-numerical files to Numberic\n",
    "from sklearn.preprocessing import LabelEncoder\n",
    "le = LabelEncoder()\n",
    "for i in range(0,9):\n",
    "    bc[i] = le.fit_transform(bc[i])\n",
    "\n",
    "# Renaming coloum titles with (IP - Input) & (OP - Output)\n",
    "col = [ \"IP1\", \"IP2\", \"IP3\", \"IP4\", \"IP5\", \"IP6\", \"IP7\", \"IP8\", \"IP8\", \"OP\"]\n",
    "bc.columns=col\n",
    "X=bc.drop('OP', axis=1)\n",
    "Y=bc['OP']\n",
    "\n",
    "# Selecting the data-set \n",
    "from sklearn.model_selection import train_test_split\n",
    "X_train, X_test, Y_train, Y_test = train_test_split(X,Y, random_state=0)\n",
    "\n",
    "# Loading RandomForest algorithm \n",
    "from sklearn.ensemble import RandomForestClassifier\n",
    "Randmodel = RandomForestClassifier()\n",
    "Randmodel.fit(X_train, Y_train)\n",
    "Y_pred = Randmodel.predict(X_test)\n",
    "result = pd.DataFrame({\"Actual\": Y_test, \"Predicted\": Y_pred})\n",
    "\n",
    "# Getting the accuracy \n",
    "from sklearn.metrics import accuracy_score, confusion_matrix\n",
    "print(confusion_matrix(Y_test, Y_pred))\n",
    "print(accuracy_score(Y_test, Y_pred))\n",
    "\n",
    "# Save the model\n",
    "import pickle as pk \n",
    "with open(\"C:\\\\Data\\\\models\\\\rand.ser\", \"wb\") as op:\n",
    "    pk.dump(Randmodel, op)"
   ]
  },
  {
   "cell_type": "code",
   "execution_count": null,
   "id": "71c5bde3",
   "metadata": {},
   "outputs": [],
   "source": []
  }
 ],
 "metadata": {
  "kernelspec": {
   "display_name": "Python 3 (ipykernel)",
   "language": "python",
   "name": "python3"
  },
  "language_info": {
   "codemirror_mode": {
    "name": "ipython",
    "version": 3
   },
   "file_extension": ".py",
   "mimetype": "text/x-python",
   "name": "python",
   "nbconvert_exporter": "python",
   "pygments_lexer": "ipython3",
   "version": "3.10.9"
  }
 },
 "nbformat": 4,
 "nbformat_minor": 5
}
